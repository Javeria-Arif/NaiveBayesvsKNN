{
  "nbformat": 4,
  "nbformat_minor": 0,
  "metadata": {
    "colab": {
      "name": "LAB4",
      "provenance": [],
      "authorship_tag": "ABX9TyPEv+R4HT+dfVsxAeVaOj1V",
      "include_colab_link": true
    },
    "kernelspec": {
      "name": "python3",
      "display_name": "Python 3"
    },
    "language_info": {
      "name": "python"
    }
  },
  "cells": [
    {
      "cell_type": "markdown",
      "metadata": {
        "id": "view-in-github",
        "colab_type": "text"
      },
      "source": [
        "<a href=\"https://colab.research.google.com/github/Javeria-Arif/NaiveBayesvsKNN/blob/main/LAB4.ipynb\" target=\"_parent\"><img src=\"https://colab.research.google.com/assets/colab-badge.svg\" alt=\"Open In Colab\"/></a>"
      ]
    },
    {
      "cell_type": "markdown",
      "metadata": {
        "id": "BlaZX9WcOA0_"
      },
      "source": [
        "## Lab 04: Question 6\n",
        "### **For: Heart.csv**"
      ]
    },
    {
      "cell_type": "code",
      "metadata": {
        "colab": {
          "base_uri": "https://localhost:8080/"
        },
        "id": "oissLhgmFtHe",
        "outputId": "88efff97-aa6f-4d74-bbd9-c1aae11e4fba"
      },
      "source": [
        "from sklearn.model_selection import train_test_split\n",
        "import pandas as pd\n",
        "dataset = pd.read_csv('heart.csv')\n",
        "predictors = dataset.drop(\"target\",axis=1)\n",
        "target = dataset[\"target\"]\n",
        "X_train,X_test,Y_train,Y_test =train_test_split(predictors,target,test_size=0.20,random_state=0)\n",
        "#X_train.shape\n",
        "#X_test.shape\n",
        "#Y_train.shape\n",
        "#Y_test.shape\n",
        "dataset.shape\n"
      ],
      "execution_count": 13,
      "outputs": [
        {
          "output_type": "execute_result",
          "data": {
            "text/plain": [
              "(303, 14)"
            ]
          },
          "metadata": {
            "tags": []
          },
          "execution_count": 13
        }
      ]
    },
    {
      "cell_type": "code",
      "metadata": {
        "id": "lGnxnjEZIo7F"
      },
      "source": [
        "# Load libraries\n",
        "from sklearn.neighbors import KNeighborsClassifier\n",
        "from sklearn.preprocessing import StandardScaler\n",
        "from sklearn import metrics\n",
        "import matplotlib.pyplot as plt\n",
        "from sklearn.metrics import confusion_matrix, classification_report\n",
        "# Train a KNN classifier with 5 neighborss\n",
        "knn = KNeighborsClassifier(n_neighbors=8, n_jobs=-1).fit(X_train,Y_train);\n",
        "Y_pred=knn.predict(X_test)\n",
        "print(\"The accuracy is\"+str(metrics.accuracy_score(Y_test,Y_pred)*100)+\"%\")\n",
        "print(confusion_matrix(Y_test, Y_pred))\n",
        "target_names = ['class 0', 'class 1']\n",
        "print(classification_report(Y_test, Y_pred,target_names=target_names))\n",
        "fpr, tpr, thresholds = metrics.roc_curve(Y_test, Y_pred,pos_label=2)\n",
        "metrics.plot_roc_curve(knn, X_test, Y_test)\n",
        "plt.show()"
      ],
      "execution_count": null,
      "outputs": []
    },
    {
      "cell_type": "code",
      "metadata": {
        "id": "KxAU_6TaJE89"
      },
      "source": [
        "from sklearn.naive_bayes import GaussianNB\n",
        "from sklearn.preprocessing import StandardScaler\n",
        "from sklearn import metrics\n",
        "import matplotlib.pyplot as plt\n",
        "from sklearn.metrics import confusion_matrix, classification_report\n",
        "# Create Gaussian Naive Bayes object\n",
        "classifer = GaussianNB()\n",
        "# Train model\n",
        "model = classifer.fit(X_train, Y_train)\n",
        "Y_pred = model.predict(X_test)\n",
        "print(\"The accuracy is\"+str(metrics.accuracy_score(Y_test,Y_pred)*100)+\"%\")\n",
        "print(confusion_matrix(Y_test, Y_pred))\n",
        "\n",
        "target_names = ['class 0', 'class 1']\n",
        "print(classification_report(Y_test, Y_pred,target_names=target_names))\n",
        "fpr, tpr, thresholds = metrics.roc_curve(Y_test, Y_pred,pos_label=2)\n",
        "metrics.plot_roc_curve(model, X_test, Y_test)\n",
        "plt.show()"
      ],
      "execution_count": null,
      "outputs": []
    },
    {
      "cell_type": "markdown",
      "metadata": {
        "id": "4XXQilDiKmHB"
      },
      "source": [
        "## FOR spambase.csv"
      ]
    },
    {
      "cell_type": "code",
      "metadata": {
        "id": "mrpOtOo5KrEX"
      },
      "source": [
        "from sklearn.model_selection import train_test_split\n",
        "import pandas as pd\n",
        "dataset = pd.read_csv('spambase_csv.csv')\n",
        "\n",
        "X_train,X_test,Y_train,Y_test =train_test_split(predictors,target,test_size=0.20,random_state=0)\n",
        "#X_train.shape\n",
        "#X_test.shape\n",
        "#Y_train.shape\n",
        "#Y_test.shape\n",
        "dataset.shape\n",
        "\n"
      ],
      "execution_count": null,
      "outputs": []
    },
    {
      "cell_type": "code",
      "metadata": {
        "colab": {
          "base_uri": "https://localhost:8080/",
          "height": 537
        },
        "id": "dQ_-q7d-PjMj",
        "outputId": "98183204-9196-42d0-996c-8ded7b63148a"
      },
      "source": [
        "# Load libraries\n",
        "from sklearn.neighbors import KNeighborsClassifier\n",
        "from sklearn.preprocessing import StandardScaler\n",
        "from sklearn import metrics\n",
        "import matplotlib.pyplot as plt\n",
        "from sklearn.metrics import confusion_matrix, classification_report\n",
        "# Train a KNN classifier with 5 neighborss\n",
        "knn = KNeighborsClassifier(n_neighbors=10, n_jobs=-1).fit(X_train,Y_train);\n",
        "Y_pred=knn.predict(X_test)\n",
        "print(\"The accuracy is\"+str(metrics.accuracy_score(Y_test,Y_pred)*100)+\"%\")\n",
        "print(confusion_matrix(Y_test, Y_pred))\n",
        "target_names = ['class 0', 'class 1']\n",
        "print(classification_report(Y_test, Y_pred,target_names=target_names))\n",
        "fpr, tpr, thresholds = metrics.roc_curve(Y_test, Y_pred,pos_label=2)\n",
        "metrics.plot_roc_curve(knn, X_test, Y_test)\n",
        "plt.show()"
      ],
      "execution_count": 37,
      "outputs": [
        {
          "output_type": "stream",
          "text": [
            "The accuracy is65.57377049180327%\n",
            "[[19  8]\n",
            " [13 21]]\n",
            "              precision    recall  f1-score   support\n",
            "\n",
            "     class 0       0.59      0.70      0.64        27\n",
            "     class 1       0.72      0.62      0.67        34\n",
            "\n",
            "    accuracy                           0.66        61\n",
            "   macro avg       0.66      0.66      0.66        61\n",
            "weighted avg       0.67      0.66      0.66        61\n",
            "\n"
          ],
          "name": "stdout"
        },
        {
          "output_type": "stream",
          "text": [
            "/usr/local/lib/python3.7/dist-packages/sklearn/metrics/_ranking.py:808: UndefinedMetricWarning: No positive samples in y_true, true positive value should be meaningless\n",
            "  UndefinedMetricWarning)\n"
          ],
          "name": "stderr"
        },
        {
          "output_type": "display_data",
          "data": {
            "image/png": "[encoded data removed]",
            "text/plain": [
              "<Figure size 432x288 with 1 Axes>"
            ]
          },
          "metadata": {
            "tags": [],
            "needs_background": "light"
          }
        }
      ]
    },
    {
      "cell_type": "code",
      "metadata": {
        "colab": {
          "base_uri": "https://localhost:8080/",
          "height": 537
        },
        "id": "qoUEVro7PtNy",
        "outputId": "d3ee0aaa-5750-4faa-8744-48a7e33c4953"
      },
      "source": [
        "from sklearn.naive_bayes import GaussianNB\n",
        "from sklearn.preprocessing import StandardScaler\n",
        "from sklearn import metrics\n",
        "import matplotlib.pyplot as plt\n",
        "from sklearn.metrics import confusion_matrix, classification_report\n",
        "# Create Gaussian Naive Bayes object\n",
        "classifer = GaussianNB()\n",
        "# Train model\n",
        "model = classifer.fit(X_train, Y_train)\n",
        "Y_pred = model.predict(X_test)\n",
        "print(\"The accuracy is\"+str(metrics.accuracy_score(Y_test,Y_pred)*100)+\"%\")\n",
        "print(confusion_matrix(Y_test, Y_pred))\n",
        "\n",
        "target_names = ['class 0', 'class 1']\n",
        "print(classification_report(Y_test, Y_pred,target_names=target_names))\n",
        "fpr, tpr, thresholds = metrics.roc_curve(Y_test, Y_pred,pos_label=2)\n",
        "metrics.plot_roc_curve(model, X_test, Y_test)\n",
        "plt.show()"
      ],
      "execution_count": 38,
      "outputs": [
        {
          "output_type": "stream",
          "text": [
            "The accuracy is85.24590163934425%\n",
            "[[21  6]\n",
            " [ 3 31]]\n",
            "              precision    recall  f1-score   support\n",
            "\n",
            "     class 0       0.88      0.78      0.82        27\n",
            "     class 1       0.84      0.91      0.87        34\n",
            "\n",
            "    accuracy                           0.85        61\n",
            "   macro avg       0.86      0.84      0.85        61\n",
            "weighted avg       0.85      0.85      0.85        61\n",
            "\n"
          ],
          "name": "stdout"
        },
        {
          "output_type": "stream",
          "text": [
            "/usr/local/lib/python3.7/dist-packages/sklearn/metrics/_ranking.py:808: UndefinedMetricWarning: No positive samples in y_true, true positive value should be meaningless\n",
            "  UndefinedMetricWarning)\n"
          ],
          "name": "stderr"
        },
        {
          "output_type": "display_data",
          "data": {
            "image/png": "[encoded data removed]",
            "text/plain": [
              "<Figure size 432x288 with 1 Axes>"
            ]
          },
          "metadata": {
            "tags": [],
            "needs_background": "light"
          }
        }
      ]
    }
  ]
}